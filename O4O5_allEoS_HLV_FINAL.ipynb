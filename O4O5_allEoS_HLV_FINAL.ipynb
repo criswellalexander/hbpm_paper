{
 "cells": [
  {
   "cell_type": "markdown",
   "metadata": {},
   "source": [
    "This version has:\n",
    "- bootstrap\n",
    "- updated noise fpeak prior, with edge effects addressed\n",
    "- fpeak posteriors with edge effects addressed\n",
    "- mismatched posterior and prior KDE (0.5 prior, 0.15 posterior)\n",
    "- fpeak prior draw-up for posteriors\n",
    "- Mchirp pop prior = 1\n",
    "- no norm\n",
    "- long BW posterior runs\n",
    "- redshift correction, assuming known z\n",
    "- updated ifo handling (better ifo specification and multiplication across fpeak posteriors)"
   ]
  },
  {
   "cell_type": "code",
   "execution_count": 41,
   "metadata": {},
   "outputs": [],
   "source": [
    "## point to my utils/analysis code\n",
    "hbpmloc = '/mnt/c/Users/Alexander/Documents/LIGO/PM/hbpm_v2/'\n",
    "## basic imports\n",
    "import numpy as np\n",
    "import matplotlib.pyplot as plt\n",
    "import mplcyberpunk\n",
    "import scipy.stats as st\n",
    "import matplotlib\n",
    "from scipy.interpolate import interp1d\n",
    "from scipy.stats import gaussian_kde as kde\n",
    "from scipy.stats.mstats import mquantiles as mq\n",
    "from pesummary.core.plots.bounded_1d_kde import bounded_1d_kde\n",
    "from glob import glob\n",
    "import pandas as pd\n",
    "import sys \n",
    "import os\n",
    "import pickle\n",
    "from astropy import cosmology as co\n",
    "from astropy.units import *\n",
    "import dill\n",
    "## Importing the accompanying utility and analysis files\n",
    "sys.path.append(os.path.abspath(hbpmloc+'hbpm_utils/'))\n",
    "from hbpm_utils import *\n",
    "from importlib import reload\n",
    "reload(sys.modules[\"hbpm_utils\"])\n",
    "from hbpm_utils import *\n",
    "sys.path.append(hbpmloc)\n",
    "from hbpm_analysis import run_analysis\n",
    "reload(sys.modules[\"hbpm_analysis\"])\n",
    "from hbpm_analysis import run_analysis\n",
    "\n",
    "## my preferred figure settings\n",
    "matplotlib.rcParams['figure.figsize'] = (8.08, 5.)\n",
    "matplotlib.rcParams['xtick.labelsize'] = 12.0\n",
    "matplotlib.rcParams['ytick.labelsize'] = 12.0\n",
    "matplotlib.rcParams['axes.labelsize'] = 14.0\n",
    "matplotlib.rcParams['legend.fontsize'] = 12\n",
    "matplotlib.rcParams['axes.titlesize'] = 16\n",
    "matplotlib.rcParams['axes.prop_cycle'] = matplotlib.cycler(color=[\"mediumorchid\", \"teal\", \"goldenrod\",\"slategray\"])"
   ]
  },
  {
   "cell_type": "code",
   "execution_count": 42,
   "metadata": {},
   "outputs": [],
   "source": [
    "post_bandwidth = 0.15\n",
    "prior_bandwidth = 0.4"
   ]
  },
  {
   "cell_type": "code",
   "execution_count": 4,
   "metadata": {},
   "outputs": [],
   "source": [
    "## load the not-bootstrap bootstrap\n",
    "## really need a new name for this\n",
    "## should also make a function to do this & put the samples in the hbpm_v2 directory\n",
    "coeffs = pd.read_csv(\n",
    "    '/mnt/c/Users/Alexander/Documents/LIGO/PM/hbpm/analysis_2022/empirical_relation_samples/sampled_coefficients_v05.tab',\n",
    "    sep=' ')\n",
    "bootstrap = coeffs.to_numpy()"
   ]
  },
  {
   "cell_type": "markdown",
   "metadata": {},
   "source": [
    "## Preliminaries"
   ]
  },
  {
   "cell_type": "code",
   "execution_count": 43,
   "metadata": {},
   "outputs": [],
   "source": [
    "## fine grid\n",
    "fs = np.linspace(1.5,4,200)\n",
    "Ms = np.linspace(0.8,1.8,200)"
   ]
  },
  {
   "cell_type": "code",
   "execution_count": 44,
   "metadata": {},
   "outputs": [],
   "source": [
    "## get the Dietrich et al. (2020) multimessenger prior for R_1.6\n",
    "Rs_mm, Rprior_kernel_mm, R16samples_mm = load_Rprior(hbpmloc+'/priors/R16_prior.txt',return_samples=True,plot=False)\n",
    "\n",
    "## uniform prior, consider R on [9,15]\n",
    "Rs = np.linspace(9,15,200)"
   ]
  },
  {
   "cell_type": "code",
   "execution_count": 45,
   "metadata": {},
   "outputs": [],
   "source": [
    "uniform_Rprior = st.uniform(loc=Rs.min(),scale=(Rs.max()-Rs.min()))"
   ]
  },
  {
   "cell_type": "code",
   "execution_count": 8,
   "metadata": {},
   "outputs": [],
   "source": [
    "## O5 prior\n",
    "fprior_path = hbpmloc+'priors/fpeak_broad_O5_prior_100x.txt'\n",
    "fprior_samples = np.loadtxt(fprior_path)\n",
    "fprior = Prior_f(fprior_samples,boundary='Reflection',kde_bandwidth=prior_bandwidth)"
   ]
  },
  {
   "cell_type": "code",
   "execution_count": 9,
   "metadata": {},
   "outputs": [],
   "source": [
    "with open(hbpmloc+'/priors/fpeak_O5_prior_bw0p4.pickle','wb') as file:\n",
    "    dill.dump(fprior,file)"
   ]
  },
  {
   "cell_type": "code",
   "execution_count": 10,
   "metadata": {},
   "outputs": [],
   "source": [
    "with open(hbpmloc+'/priors/fpeak_O5_prior_bw0p4.pickle','rb') as file:\n",
    "    fprior_load = dill.load(file)"
   ]
  },
  {
   "cell_type": "code",
   "execution_count": 46,
   "metadata": {},
   "outputs": [
    {
     "data": {
      "text/plain": [
       "<hbpm_utils.Prior_f at 0x7fb338ad13d0>"
      ]
     },
     "execution_count": 46,
     "metadata": {},
     "output_type": "execute_result"
    }
   ],
   "source": [
    "fprior_load"
   ]
  },
  {
   "cell_type": "code",
   "execution_count": 12,
   "metadata": {},
   "outputs": [
    {
     "data": {
      "image/png": "[encoded data removed]",
      "text/plain": [
       "<Figure size 581.76x360 with 1 Axes>"
      ]
     },
     "metadata": {
      "needs_background": "light"
     },
     "output_type": "display_data"
    }
   ],
   "source": [
    "## plot the fpeak prior\n",
    "plt.figure()\n",
    "# plt.hist(O4_fprior.samples,density=True,alpha=0.5,label='O4 $\\mathrm{f_{peak}}$'+' Prior Samples',bins=25)\n",
    "plt.hist(fprior.samples,density=True,alpha=0.5,label='O5 $\\mathrm{f_{peak}}$'+' Prior Samples',bins=10)\n",
    "# plt.plot(fs,O4_fprior.pdf(fs),label='O4 $\\\\mathrm{f_{peak}}$ Prior KDE')\n",
    "plt.plot(fs,fprior.pdf(fs),label='O5 $\\\\mathrm{f_{peak}}$ Prior KDE')\n",
    "plt.plot(fs,fprior_load.pdf(fs),label='Loaded O5 $\\\\mathrm{f_{peak}}$ Prior KDE')\n",
    "plt.plot(fs,st.uniform.pdf(fs,loc=1.5,scale=2.5))\n",
    "plt.xlabel('$\\mathrm{f_{peak}}$ (kHz)')\n",
    "plt.xlim(1.5,4)\n",
    "# plt.yticks([])\n",
    "plt.ylim(0.35,0.45)\n",
    "plt.title('Peak Frequency Prior')\n",
    "plt.legend(loc='lower right')\n",
    "# plt.savefig('fpeak_prior_forcapstone.jpg',bbox_inches='tight')\n",
    "plt.show()"
   ]
  },
  {
   "cell_type": "code",
   "execution_count": 47,
   "metadata": {},
   "outputs": [],
   "source": [
    "# fprior_spec = {'H1':fprior,'L1':fprior,'V1':fprior}\n",
    "fprior_spec = hbpmloc+'/priors/fpeak_O5_prior_bw0p4_downsampled.pickle'\n",
    "# fprior_spec = 'uniform'"
   ]
  },
  {
   "cell_type": "markdown",
   "metadata": {},
   "source": [
    "## Analyses"
   ]
  },
  {
   "cell_type": "code",
   "execution_count": 48,
   "metadata": {},
   "outputs": [],
   "source": [
    "# prior_O4 = O4_fprior #'/mnt/c/Users/Alexander/Documents/LIGO/PM/hbpm_v2/priors/fpeak_frankenstein_hnh_prior.txt'\n",
    "# prior_O5 = \n",
    "savebase = '10-O4O5_allEoS_HLV'"
   ]
  },
  {
   "cell_type": "markdown",
   "metadata": {},
   "source": [
    "## sly4"
   ]
  },
  {
   "cell_type": "markdown",
   "metadata": {},
   "source": [
    "### O5"
   ]
  },
  {
   "cell_type": "code",
   "execution_count": null,
   "metadata": {},
   "outputs": [
    {
     "name": "stdout",
     "output_type": "stream",
     "text": [
      "Running a hierarchical Bayesian post-merger analysis...\n",
      "Loading priors...\n",
      "Loading simulation data...\n",
      "Generating event dictionary...\n"
     ]
    },
    {
     "name": "stderr",
     "output_type": "stream",
     "text": [
      " 67%|======>>>>| 56/83 [02:49<01:23,  3.10s/it]"
     ]
    }
   ],
   "source": [
    "sly4_O5_datadir = '/mnt/c/Users/Alexander/Documents/LIGO/PM/BWruns/HLV_runs/sly4_O5'\n",
    "Rs_sly4_O5,likes_sly4_O5,post_sly4_O5,stats_sly4_O5,postdict_sly4_O5 = run_analysis(sly4_O5_datadir,\n",
    "                                                                     fprior_spec,\n",
    "                                                                'uniform','sly4',\n",
    "                                                                hbpmloc+'/observing_run_sims/O5_events_updated.csv',\n",
    "                                                               hbpmloc+'/nr_files/sly4_event_parameters.csv',\n",
    "                                                               saveto='./'+savebase+'_sly4O5/',bootstrap=bootstrap,\n",
    "                                                                 prior_bandwidth=prior_bandwidth,\n",
    "                                                                 posterior_bandwidth=post_bandwidth,\n",
    "                                                                        z_adj='known',Mchirp_scaling='snr',\n",
    "                                                                   ifos='H1,L1,V1',aggregation='sum')"
   ]
  },
  {
   "cell_type": "markdown",
   "metadata": {},
   "source": [
    "### O4"
   ]
  },
  {
   "cell_type": "code",
   "execution_count": null,
   "metadata": {},
   "outputs": [],
   "source": [
    "sly4_O4_datadir = '/mnt/c/Users/Alexander/Documents/LIGO/PM/BWruns/HLV_runs/sly4_O4'\n",
    "Rs_sly4_O4,likes_sly4_O4,post_sly4_O4,stats_sly4_O4,postdict_sly4_O4 = run_analysis(sly4_O4_datadir,\n",
    "                                                                     fprior_spec,\n",
    "                                                                'uniform','sly4',\n",
    "                                                                hbpmloc+'/observing_run_sims/O4_events_updated.csv',\n",
    "                                                               hbpmloc+'/nr_files/sly4_event_parameters.csv',\n",
    "                                                               saveto='./'+savebase+'_sly4O4/',bootstrap=bootstrap,\n",
    "                                                                 prior_bandwidth=prior_bandwidth,\n",
    "                                                                 posterior_bandwidth=post_bandwidth,\n",
    "                                                                        z_adj='known',Mchirp_scaling='snr',\n",
    "                                                                   ifos='H1,L1,V1',aggregation='sum')"
   ]
  },
  {
   "cell_type": "code",
   "execution_count": null,
   "metadata": {},
   "outputs": [],
   "source": [
    "sly4_likes_O4O5 = [*likes_sly4_O4,*likes_sly4_O5]"
   ]
  },
  {
   "cell_type": "code",
   "execution_count": null,
   "metadata": {},
   "outputs": [],
   "source": [
    "plt.figure()\n",
    "ax = plt.gca()\n",
    "# plot_aggregate_posterior_on_ax(Rs,likes_sly4,uniform_Rprior,Rtrue=11.54,ax=ax1,legend_loc='upper left',\n",
    "#                          title='O4+O5 Posterior for sly4 EoS')#,Rticks=[9.5,10,10.5,11,11.5,12,12.5,13,13.5])\n",
    "plot_aggregate_posterior_on_ax(Rs,sly4_likes_O4O5,uniform_Rprior,Rtrue=11.54,ax=ax,legend_loc='upper left',\n",
    "                         title='O4+O5 Posterior for sly4 EoS')#,Rticks=[9.5,10,10.5,11,11.5,12,12.5,13,13.5])\n",
    "# plot_aggregate_posterior_on_ax(Rs,likes_dd2,uniform_Rprior,Rtrue=13.26,ax=ax3,legend_loc='upper left',\n",
    "#                          title='O4+O5 Posterior for dd2 EoS')#,Rticks=[9.5,10,10.5,11,11.5,12,12.5,13,13.5])\n",
    "# ax1.set_ylim()\n",
    "# plt.tight_layout()\n",
    "# plt.savefig('../paper/figures/O4O5_allEoS_3panel_witherr.png',bbox_inches='tight')\n",
    "# plt.savefig('../paper/figures/O4O5_allEoS_3panel_witherr.pdf',bbox_inches='tight')\n",
    "plt.show()"
   ]
  },
  {
   "cell_type": "code",
   "execution_count": null,
   "metadata": {},
   "outputs": [],
   "source": [
    "plt.figure()\n",
    "ax = plt.gca()\n",
    "# plot_aggregate_posterior_on_ax(Rs,likes_sly4,uniform_Rprior,Rtrue=11.54,ax=ax1,legend_loc='upper left',\n",
    "#                          title='O4+O5 Posterior for sly4 EoS')#,Rticks=[9.5,10,10.5,11,11.5,12,12.5,13,13.5])\n",
    "plot_aggregate_posterior_on_ax(Rs,sly4_likes_O4O5,Rprior_kernel_mm,Rtrue=11.54,ax=ax,legend_loc='upper left',\n",
    "                         title='O4+O5 Posterior for sly4 EoS')#,Rticks=[9.5,10,10.5,11,11.5,12,12.5,13,13.5])\n",
    "# plot_aggregate_posterior_on_ax(Rs,likes_dd2,uniform_Rprior,Rtrue=13.26,ax=ax3,legend_loc='upper left',\n",
    "#                          title='O4+O5 Posterior for dd2 EoS')#,Rticks=[9.5,10,10.5,11,11.5,12,12.5,13,13.5])\n",
    "# ax1.set_ylim()\n",
    "# plt.tight_layout()\n",
    "# plt.savefig('../paper/figures/O4O5_allEoS_3panel_witherr.png',bbox_inches='tight')\n",
    "# plt.savefig('../paper/figures/O4O5_allEoS_3panel_witherr.pdf',bbox_inches='tight')\n",
    "plt.show()"
   ]
  },
  {
   "cell_type": "markdown",
   "metadata": {},
   "source": [
    "## SFHX"
   ]
  },
  {
   "cell_type": "markdown",
   "metadata": {},
   "source": [
    "### O5"
   ]
  },
  {
   "cell_type": "code",
   "execution_count": null,
   "metadata": {},
   "outputs": [],
   "source": [
    "sfhx_O5_datadir = '/mnt/c/Users/Alexander/Documents/LIGO/PM/BWruns/HLV_runs/sfhx_O5'\n",
    "Rs_sfhx_O5z,likes_sfhx_O5z,post_sfhx_O5z,stats_sfhx_O5z,postdict_sfhx_O5z = run_analysis(sfhx_O5_datadir,\n",
    "                                                                     fprior_spec,\n",
    "                                                                'uniform','sfhx',\n",
    "                                                                hbpmloc+'/observing_run_sims/O5_events_updated.csv',\n",
    "                                                               hbpmloc+'/nr_files/sfhx_event_parameters.csv',\n",
    "                                                               saveto='./'+savebase+'_sfhxO5/',bootstrap=bootstrap,\n",
    "                                                                     prior_bandwidth=prior_bandwidth,\n",
    "                                                                 posterior_bandwidth=post_bandwidth,\n",
    "                                                                        z_adj='known',Mchirp_scaling='snr',\n",
    "                                                                   ifos='H1,L1,V1',aggregation='sum')"
   ]
  },
  {
   "cell_type": "markdown",
   "metadata": {},
   "source": [
    "### O4"
   ]
  },
  {
   "cell_type": "code",
   "execution_count": null,
   "metadata": {},
   "outputs": [],
   "source": [
    "sfhx_O4_datadir = '/mnt/c/Users/Alexander/Documents/LIGO/PM/BWruns/HLV_runs/sfhx_O4'\n",
    "Rs_sfhx_O4z,likes_sfhx_O4z,post_sfhx_O4z,stats_sfhx_O4z,postdict_sfhx_O4z = run_analysis(sfhx_O4_datadir,\n",
    "                                                                     fprior_spec,\n",
    "                                                                'uniform','sfhx',\n",
    "                                                                hbpmloc+'/observing_run_sims/O4_events_updated.csv',\n",
    "                                                               hbpmloc+'/nr_files/sfhx_event_parameters.csv',\n",
    "                                                               saveto='./'+savebase+'_sfhxO4/',bootstrap=bootstrap,\n",
    "                                                                     prior_bandwidth=prior_bandwidth,\n",
    "                                                                 posterior_bandwidth=post_bandwidth,\n",
    "                                                                        z_adj='known',Mchirp_scaling='snr',\n",
    "                                                                   ifos='H1,L1,V1',aggregation='mult')"
   ]
  },
  {
   "cell_type": "code",
   "execution_count": null,
   "metadata": {},
   "outputs": [],
   "source": [
    "sfhx_likes_O4O5z = [*likes_sfhx_O4z,*likes_sfhx_O5z]"
   ]
  },
  {
   "cell_type": "code",
   "execution_count": null,
   "metadata": {},
   "outputs": [],
   "source": [
    "plt.figure()\n",
    "ax = plt.gca()\n",
    "# plot_aggregate_posterior_on_ax(Rs,likes_sly4,uniform_Rprior,Rtrue=11.54,ax=ax1,legend_loc='upper left',\n",
    "#                          title='O4+O5 Posterior for sly4 EoS')#,Rticks=[9.5,10,10.5,11,11.5,12,12.5,13,13.5])\n",
    "plot_aggregate_posterior_on_ax(Rs,sfhx_likes_O4O5z,uniform_Rprior,Rtrue=11.98,ax=ax,legend_loc='upper left',\n",
    "                         title='O4+O5 Posterior for SFHX EoS')#,Rticks=[9.5,10,10.5,11,11.5,12,12.5,13,13.5])\n",
    "# plot_aggregate_posterior_on_ax(Rs,likes_dd2,uniform_Rprior,Rtrue=13.26,ax=ax3,legend_loc='upper left',\n",
    "#                          title='O4+O5 Posterior for dd2 EoS')#,Rticks=[9.5,10,10.5,11,11.5,12,12.5,13,13.5])\n",
    "# ax1.set_ylim()\n",
    "# plt.tight_layout()\n",
    "# plt.savefig('../paper/figures/O4O5_allEoS_3panel_witherr.png',bbox_inches='tight')\n",
    "# plt.savefig('../paper/figures/O4O5_allEoS_3panel_witherr.pdf',bbox_inches='tight')\n",
    "plt.show()"
   ]
  },
  {
   "cell_type": "code",
   "execution_count": null,
   "metadata": {},
   "outputs": [],
   "source": [
    "plt.figure()\n",
    "ax = plt.gca()\n",
    "# plot_aggregate_posterior_on_ax(Rs,likes_sly4,uniform_Rprior,Rtrue=11.54,ax=ax1,legend_loc='upper left',\n",
    "#                          title='O4+O5 Posterior for sly4 EoS')#,Rticks=[9.5,10,10.5,11,11.5,12,12.5,13,13.5])\n",
    "plot_aggregate_posterior_on_ax(Rs,sfhx_likes_O4O5z,Rprior_kernel_mm,Rtrue=11.98,ax=ax,legend_loc='upper left',\n",
    "                         title='O4+O5 Posterior for SFHX EoS')#,Rticks=[9.5,10,10.5,11,11.5,12,12.5,13,13.5])\n",
    "# plot_aggregate_posterior_on_ax(Rs,likes_dd2,uniform_Rprior,Rtrue=13.26,ax=ax3,legend_loc='upper left',\n",
    "#                          title='O4+O5 Posterior for dd2 EoS')#,Rticks=[9.5,10,10.5,11,11.5,12,12.5,13,13.5])\n",
    "# ax1.set_ylim()\n",
    "# plt.tight_layout()\n",
    "# plt.savefig('../paper/figures/O4O5_allEoS_3panel_witherr.png',bbox_inches='tight')\n",
    "# plt.savefig('../paper/figures/O4O5_allEoS_3panel_witherr.pdf',bbox_inches='tight')\n",
    "plt.show()"
   ]
  },
  {
   "cell_type": "markdown",
   "metadata": {},
   "source": [
    "## DD2"
   ]
  },
  {
   "cell_type": "markdown",
   "metadata": {},
   "source": [
    "### O5"
   ]
  },
  {
   "cell_type": "code",
   "execution_count": null,
   "metadata": {},
   "outputs": [],
   "source": [
    "dd2_O5_datadir = '/mnt/c/Users/Alexander/Documents/LIGO/PM/BWruns/HLV_runs/dd2_O5'\n",
    "Rs_dd2_O5z,likes_dd2_O5z,post_dd2_O5z,stats_dd2_O5z,postdict_dd2_O5z = run_analysis(dd2_O5_datadir,\n",
    "                                                                     fprior_spec,\n",
    "                                                                'uniform','dd2',\n",
    "                                                                hbpmloc+'/observing_run_sims/O5_events_updated.csv',\n",
    "                                                               hbpmloc+'/nr_files/dd2_event_parameters.csv',\n",
    "                                                               saveto='./'+savebase+'_dd2O5/',bootstrap=bootstrap,\n",
    "                                                                     prior_bandwidth=prior_bandwidth,\n",
    "                                                                 posterior_bandwidth=post_bandwidth,\n",
    "                                                                        z_adj='known',Mchirp_scaling='snr',\n",
    "                                                                   ifos='H1,L1,V1',aggregation='sum')"
   ]
  },
  {
   "cell_type": "markdown",
   "metadata": {},
   "source": [
    "### O4"
   ]
  },
  {
   "cell_type": "code",
   "execution_count": null,
   "metadata": {},
   "outputs": [],
   "source": [
    "dd2_O4_datadir = '/mnt/c/Users/Alexander/Documents/LIGO/PM/BWruns/HLV_runs/dd2_O4'\n",
    "Rs_dd2_O4z,likes_dd2_O4z,post_dd2_O4z,stats_dd2_O4z,postdict_dd2_O4z = run_analysis(dd2_O4_datadir,\n",
    "                                                                     fprior_spec,\n",
    "                                                                'uniform','dd2',\n",
    "                                                                hbpmloc+'/observing_run_sims/O4_events_updated.csv',\n",
    "                                                               hbpmloc+'/nr_files/dd2_event_parameters.csv',\n",
    "                                                               saveto='./'+savebase+'_dd2O4/',bootstrap=bootstrap,\n",
    "                                                                     prior_bandwidth=prior_bandwidth,\n",
    "                                                                 posterior_bandwidth=post_bandwidth,\n",
    "                                                                        z_adj='known',Mchirp_scaling='snr',\n",
    "                                                                   ifos='H1,L1,V1',aggregation='sum')"
   ]
  },
  {
   "cell_type": "code",
   "execution_count": null,
   "metadata": {},
   "outputs": [],
   "source": [
    "dd2_likes_O4O5z = [*likes_dd2_O4z,*likes_dd2_O5z]"
   ]
  },
  {
   "cell_type": "code",
   "execution_count": null,
   "metadata": {
    "scrolled": true
   },
   "outputs": [],
   "source": [
    "plt.figure()\n",
    "ax = plt.gca()\n",
    "# plot_aggregate_posterior_on_ax(Rs,likes_sly4,uniform_Rprior,Rtrue=11.54,ax=ax1,legend_loc='upper left',\n",
    "#                          title='O4+O5 Posterior for sly4 EoS')#,Rticks=[9.5,10,10.5,11,11.5,12,12.5,13,13.5])\n",
    "plot_aggregate_posterior_on_ax(Rs,dd2_likes_O4O5z,uniform_Rprior,Rtrue=13.26,ax=ax,legend_loc='upper left',\n",
    "                         title='O4+O5 Posterior for dd2 EoS')#,Rticks=[9.5,10,10.5,11,11.5,12,12.5,13,13.5])\n",
    "# plot_aggregate_posterior_on_ax(Rs,likes_dd2,uniform_Rprior,Rtrue=13.26,ax=ax3,legend_loc='upper left',\n",
    "#                          title='O4+O5 Posterior for dd2 EoS')#,Rticks=[9.5,10,10.5,11,11.5,12,12.5,13,13.5])\n",
    "# ax1.set_ylim()\n",
    "# plt.tight_layout()\n",
    "# plt.savefig('../paper/figures/O4O5_allEoS_3panel_witherr.png',bbox_inches='tight')\n",
    "# plt.savefig('../paper/figures/O4O5_allEoS_3panel_witherr.pdf',bbox_inches='tight')\n",
    "plt.show()"
   ]
  },
  {
   "cell_type": "code",
   "execution_count": null,
   "metadata": {},
   "outputs": [],
   "source": [
    "plt.figure()\n",
    "ax = plt.gca()\n",
    "# plot_aggregate_posterior_on_ax(Rs,likes_sly4,uniform_Rprior,Rtrue=11.54,ax=ax1,legend_loc='upper left',\n",
    "#                          title='O4+O5 Posterior for sly4 EoS')#,Rticks=[9.5,10,10.5,11,11.5,12,12.5,13,13.5])\n",
    "plot_aggregate_posterior_on_ax(Rs,dd2_likes_O4O5z,Rprior_kernel_mm,Rtrue=13.26,ax=ax,legend_loc='upper left',\n",
    "                         title='O4+O5 Posterior for dd2 EoS')#,Rticks=[9.5,10,10.5,11,11.5,12,12.5,13,13.5])\n",
    "# plot_aggregate_posterior_on_ax(Rs,likes_dd2,uniform_Rprior,Rtrue=13.26,ax=ax3,legend_loc='upper left',\n",
    "#                          title='O4+O5 Posterior for dd2 EoS')#,Rticks=[9.5,10,10.5,11,11.5,12,12.5,13,13.5])\n",
    "# ax1.set_ylim()\n",
    "# plt.tight_layout()\n",
    "# plt.savefig('../paper/figures/O4O5_allEoS_3panel_witherr.png',bbox_inches='tight')\n",
    "# plt.savefig('../paper/figures/O4O5_allEoS_3panel_witherr.pdf',bbox_inches='tight')\n",
    "plt.show()"
   ]
  },
  {
   "cell_type": "markdown",
   "metadata": {},
   "source": [
    "## All together now!"
   ]
  },
  {
   "cell_type": "code",
   "execution_count": null,
   "metadata": {},
   "outputs": [],
   "source": [
    "## plot all\n",
    "fig, (ax1, ax2, ax3) = plt.subplots(1,3,figsize=(16,4),sharey=True)\n",
    "plot_aggregate_posterior_on_ax(Rs,sly4_likes_O4O5,uniform_Rprior,Rtrue=11.54,ax=ax1,legend_loc='upper left',\n",
    "                         title='O4+O5 Posterior for sly4 EoS')#,Rticks=[9.5,10,10.5,11,11.5,12,12.5,13,13.5])\n",
    "plot_aggregate_posterior_on_ax(Rs,sfhx_likes_O4O5z,uniform_Rprior,Rtrue=11.98,ax=ax2,legend_loc='upper left',\n",
    "                         title='O4+O5 Posterior for SFHX EoS')#,Rticks=[9.5,10,10.5,11,11.5,12,12.5,13,13.5])\n",
    "plot_aggregate_posterior_on_ax(Rs,dd2_likes_O4O5z,uniform_Rprior,Rtrue=13.26,ax=ax3,legend_loc='upper left',\n",
    "                         title='O4+O5 Posterior for dd2 EoS')#,Rticks=[9.5,10,10.5,11,11.5,12,12.5,13,13.5])\n",
    "ax1.set_ylim(0,0.015)\n",
    "plt.tight_layout()\n",
    "# plt.suptitle('O4+O5')\n",
    "# plt.savefig('../paper/figures/O4O5_allEoS_uniformprior_3panel.png',bbox_inches='tight')\n",
    "# plt.savefig('../paper/figures/O4O5_allEoS_uniformprior_3panel.pdf',bbox_inches='tight')\n",
    "plt.show()"
   ]
  },
  {
   "cell_type": "code",
   "execution_count": null,
   "metadata": {},
   "outputs": [],
   "source": [
    "## plot all\n",
    "fig, (ax1, ax2, ax3) = plt.subplots(1,3,figsize=(16,4),sharey=True)\n",
    "plot_aggregate_posterior_on_ax(Rs,likes_sly4_O5,uniform_Rprior,Rtrue=11.54,ax=ax1,legend_loc='upper left',\n",
    "                         title='O5 Posterior for sly4 EoS')#,Rticks=[9.5,10,10.5,11,11.5,12,12.5,13,13.5])\n",
    "plot_aggregate_posterior_on_ax(Rs,likes_sfhx_O5z,uniform_Rprior,Rtrue=11.98,ax=ax2,legend_loc='upper left',\n",
    "                         title='O5 Posterior for SFHX EoS')#,Rticks=[9.5,10,10.5,11,11.5,12,12.5,13,13.5])\n",
    "plot_aggregate_posterior_on_ax(Rs,likes_dd2_O5z,uniform_Rprior,Rtrue=13.26,ax=ax3,legend_loc='upper left',\n",
    "                         title='O5 Posterior for dd2 EoS')#,Rticks=[9.5,10,10.5,11,11.5,12,12.5,13,13.5])\n",
    "ax1.set_ylim(0,0.02)\n",
    "plt.tight_layout()\n",
    "# plt.suptitle('O5 Only')\n",
    "# plt.savefig('../paper/figures/O4O5_allEoS_uniformprior_3panel.png',bbox_inches='tight')\n",
    "# plt.savefig('../paper/figures/O4O5_allEoS_uniformprior_3panel.pdf',bbox_inches='tight')\n",
    "plt.show()"
   ]
  },
  {
   "cell_type": "code",
   "execution_count": null,
   "metadata": {},
   "outputs": [],
   "source": [
    "## plot all\n",
    "fig, (ax1, ax2, ax3) = plt.subplots(1,3,figsize=(16,4),sharey=True)\n",
    "plot_aggregate_posterior_on_ax(Rs,likes_sly4_O4,uniform_Rprior,Rtrue=11.54,ax=ax1,legend_loc='upper left',\n",
    "                         title='O4 Posterior for sly4 EoS')#,Rticks=[9.5,10,10.5,11,11.5,12,12.5,13,13.5])\n",
    "plot_aggregate_posterior_on_ax(Rs,likes_sfhx_O4z,uniform_Rprior,Rtrue=11.98,ax=ax2,legend_loc='upper left',\n",
    "                         title='O4 Posterior for SFHX EoS')#,Rticks=[9.5,10,10.5,11,11.5,12,12.5,13,13.5])\n",
    "plot_aggregate_posterior_on_ax(Rs,likes_dd2_O4z,uniform_Rprior,Rtrue=13.26,ax=ax3,legend_loc='upper left',\n",
    "                         title='O4 Posterior for dd2 EoS')#,Rticks=[9.5,10,10.5,11,11.5,12,12.5,13,13.5])\n",
    "ax1.set_ylim(0,0.013)\n",
    "plt.tight_layout()\n",
    "# plt.suptitle('O4 Only')\n",
    "# plt.savefig('../paper/figures/O4O5_allEoS_uniformprior_3panel.png',bbox_inches='tight')\n",
    "# plt.savefig('../paper/figures/O4O5_allEoS_uniformprior_3panel.pdf',bbox_inches='tight')\n",
    "plt.show()"
   ]
  },
  {
   "cell_type": "code",
   "execution_count": null,
   "metadata": {},
   "outputs": [],
   "source": [
    "Rs_fine = np.linspace(9,15,500)\n",
    "plt.figure()\n",
    "plt.plot(Rs,get_posterior(Rs,get_aggregate_likelihood(sly4_likes_O4O5),uniform_Rprior),\n",
    "         label='sly4 analysis',color='mediumorchid')\n",
    "plt.plot(Rs,get_posterior(Rs,get_aggregate_likelihood(sfhx_likes_O4O5z),uniform_Rprior),\n",
    "         label='sfhx analysis',color='teal')\n",
    "plt.plot(Rs,get_posterior(Rs,get_aggregate_likelihood(dd2_likes_O4O5z),uniform_Rprior),\n",
    "         label='dd2 analysis',color='goldenrod')\n",
    "plt.axvline(11.54,color='mediumorchid',ls='-.',label='sly4 $\\mathrm{R_{1.6}}$')\n",
    "plt.axvline(11.98,color='teal',ls='-.',label='sly4 $\\mathrm{R_{1.6}}$')\n",
    "plt.axvline(13.26,color='goldenrod',ls='-.',label='sly4 $\\mathrm{R_{1.6}}$')\n",
    "# plt.axhline(0.005,label='Prior')\n",
    "# plt.ylim(0,0.01)\n",
    "plt.xlabel('$R_{1.6}$ (km)')\n",
    "plt.xlim(10,14)\n",
    "plt.legend(bbox_to_anchor=(1,0.4))\n",
    "plt.show()"
   ]
  },
  {
   "cell_type": "code",
   "execution_count": null,
   "metadata": {},
   "outputs": [],
   "source": []
  }
 ],
 "metadata": {
  "kernelspec": {
   "display_name": "gwenv",
   "language": "python",
   "name": "gwenv"
  },
  "language_info": {
   "codemirror_mode": {
    "name": "ipython",
    "version": 3
   },
   "file_extension": ".py",
   "mimetype": "text/x-python",
   "name": "python",
   "nbconvert_exporter": "python",
   "pygments_lexer": "ipython3",
   "version": "3.7.7"
  }
 },
 "nbformat": 4,
 "nbformat_minor": 4
}
