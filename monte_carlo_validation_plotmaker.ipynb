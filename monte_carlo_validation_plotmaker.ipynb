{
 "cells": [
  {
   "cell_type": "code",
   "execution_count": 31,
   "metadata": {},
   "outputs": [],
   "source": [
    "import numpy as np\n",
    "import matplotlib.pyplot as plt\n",
    "import matplotlib\n",
    "import mplcyberpunk\n",
    "import os,sys\n",
    "import pandas as pd\n",
    "from scipy.stats.kde import gaussian_kde as kde\n",
    "## Importing the accompanying utility and analysis files\n",
    "## point to my utils/analysis code\n",
    "hbpmloc = '/mnt/c/Users/Alexander/Documents/LIGO/PM/hbpm_v2/'\n",
    "sys.path.append(os.path.abspath(hbpmloc+'hbpm_utils/'))\n",
    "from hbpm_utils import *\n",
    "from importlib import reload\n",
    "reload(sys.modules[\"hbpm_utils\"])\n",
    "from hbpm_utils import *\n",
    "sys.path.append(hbpmloc)\n",
    "from hbpm_analysis import run_analysis\n",
    "reload(sys.modules[\"hbpm_analysis\"])\n",
    "from hbpm_analysis import run_analysis\n",
    "\n",
    "## my preferred figure settings\n",
    "matplotlib.rcParams['figure.figsize'] = (8.08, 5.)\n",
    "matplotlib.rcParams['xtick.labelsize'] = 12.0\n",
    "matplotlib.rcParams['ytick.labelsize'] = 12.0\n",
    "matplotlib.rcParams['axes.labelsize'] = 14.0\n",
    "matplotlib.rcParams['legend.fontsize'] = 12\n",
    "matplotlib.rcParams['axes.titlesize'] = 16\n",
    "matplotlib.rcParams['axes.prop_cycle'] = matplotlib.cycler(color=[\"mediumorchid\", \"teal\", \"goldenrod\",\"slategray\"])"
   ]
  },
  {
   "cell_type": "code",
   "execution_count": 7,
   "metadata": {},
   "outputs": [],
   "source": [
    "null_set = pd.read_csv('./validation_data_for_alexander_null.csv',header=0)\n",
    "post_set = pd.read_csv('./validation_data_for_alexander_post.csv',header=0)"
   ]
  },
  {
   "cell_type": "code",
   "execution_count": 15,
   "metadata": {},
   "outputs": [
    {
     "data": {
      "text/html": [
       "<div>\n",
       "<style scoped>\n",
       "    .dataframe tbody tr th:only-of-type {\n",
       "        vertical-align: middle;\n",
       "    }\n",
       "\n",
       "    .dataframe tbody tr th {\n",
       "        vertical-align: top;\n",
       "    }\n",
       "\n",
       "    .dataframe thead th {\n",
       "        text-align: right;\n",
       "    }\n",
       "</style>\n",
       "<table border=\"1\" class=\"dataframe\">\n",
       "  <thead>\n",
       "    <tr style=\"text-align: right;\">\n",
       "      <th></th>\n",
       "      <th>dd2_CI</th>\n",
       "      <th>sfhx_CI</th>\n",
       "      <th>sly4_CI</th>\n",
       "      <th>dd2_WD</th>\n",
       "      <th>sfhx_WD</th>\n",
       "      <th>sly4_WD</th>\n",
       "    </tr>\n",
       "  </thead>\n",
       "  <tbody>\n",
       "    <tr>\n",
       "      <th>0</th>\n",
       "      <td>2.539593</td>\n",
       "      <td>2.011358</td>\n",
       "      <td>2.011358</td>\n",
       "      <td>0.139541</td>\n",
       "      <td>0.198394</td>\n",
       "      <td>0.203824</td>\n",
       "    </tr>\n",
       "  </tbody>\n",
       "</table>\n",
       "</div>"
      ],
      "text/plain": [
       "     dd2_CI   sfhx_CI   sly4_CI    dd2_WD   sfhx_WD   sly4_WD\n",
       "0  2.539593  2.011358  2.011358  0.139541  0.198394  0.203824"
      ]
     },
     "execution_count": 15,
     "metadata": {},
     "output_type": "execute_result"
    }
   ],
   "source": [
    "post_set.head()"
   ]
  },
  {
   "cell_type": "code",
   "execution_count": 16,
   "metadata": {},
   "outputs": [],
   "source": [
    "CI_keys = ['sly4_CI','sfhx_CI','dd2_CI']"
   ]
  },
  {
   "cell_type": "code",
   "execution_count": 17,
   "metadata": {},
   "outputs": [],
   "source": [
    "WD_keys = ['sly4_WD','sfhx_WD','dd2_WD']"
   ]
  },
  {
   "cell_type": "code",
   "execution_count": 18,
   "metadata": {},
   "outputs": [],
   "source": [
    "eoss = ['sly4','SFHX','dd2']"
   ]
  },
  {
   "cell_type": "code",
   "execution_count": 9,
   "metadata": {},
   "outputs": [
    {
     "data": {
      "text/html": [
       "<div>\n",
       "<style scoped>\n",
       "    .dataframe tbody tr th:only-of-type {\n",
       "        vertical-align: middle;\n",
       "    }\n",
       "\n",
       "    .dataframe tbody tr th {\n",
       "        vertical-align: top;\n",
       "    }\n",
       "\n",
       "    .dataframe thead th {\n",
       "        text-align: right;\n",
       "    }\n",
       "</style>\n",
       "<table border=\"1\" class=\"dataframe\">\n",
       "  <thead>\n",
       "    <tr style=\"text-align: right;\">\n",
       "      <th></th>\n",
       "      <th>null_CI</th>\n",
       "      <th>null_WD</th>\n",
       "    </tr>\n",
       "  </thead>\n",
       "  <tbody>\n",
       "    <tr>\n",
       "      <th>0</th>\n",
       "      <td>2.458326</td>\n",
       "      <td>0.129961</td>\n",
       "    </tr>\n",
       "    <tr>\n",
       "      <th>1</th>\n",
       "      <td>2.377059</td>\n",
       "      <td>0.124745</td>\n",
       "    </tr>\n",
       "    <tr>\n",
       "      <th>2</th>\n",
       "      <td>2.377059</td>\n",
       "      <td>0.116979</td>\n",
       "    </tr>\n",
       "    <tr>\n",
       "      <th>3</th>\n",
       "      <td>2.417693</td>\n",
       "      <td>0.104934</td>\n",
       "    </tr>\n",
       "    <tr>\n",
       "      <th>4</th>\n",
       "      <td>2.316109</td>\n",
       "      <td>0.084845</td>\n",
       "    </tr>\n",
       "  </tbody>\n",
       "</table>\n",
       "</div>"
      ],
      "text/plain": [
       "    null_CI   null_WD\n",
       "0  2.458326  0.129961\n",
       "1  2.377059  0.124745\n",
       "2  2.377059  0.116979\n",
       "3  2.417693  0.104934\n",
       "4  2.316109  0.084845"
      ]
     },
     "execution_count": 9,
     "metadata": {},
     "output_type": "execute_result"
    }
   ],
   "source": [
    "null_set.head()"
   ]
  },
  {
   "cell_type": "code",
   "execution_count": 32,
   "metadata": {},
   "outputs": [],
   "source": [
    "null_CI_dist = kde(null_set['null_CI'])\n",
    "null_WD_dist = kde(null_set['null_WD'])"
   ]
  },
  {
   "cell_type": "code",
   "execution_count": 65,
   "metadata": {},
   "outputs": [
    {
     "data": {
      "image/png": "[encoded data removed]",
      "text/plain": [
       "<Figure size 581.76x360 with 1 Axes>"
      ]
     },
     "metadata": {
      "needs_background": "light"
     },
     "output_type": "display_data"
    }
   ],
   "source": [
    "colors=['mediumorchid','teal','goldenrod']\n",
    "lower = 1.7\n",
    "upper=2.9\n",
    "Npoints = 100\n",
    "CI_xs = np.linspace(lower,upper,Npoints)\n",
    "CI_maxi = np.argmax(null_CI_dist(CI_xs))\n",
    "plt.figure()\n",
    "plt.title('Distribution of Null Credible Intervals vs. Simulation CIs')\n",
    "# plt.hist(null_set['null_CI'],density=True,color='slategray',alpha=0.6,label='Null CIs')\n",
    "plt.plot(CI_xs,null_CI_dist.pdf(CI_xs),color='slategray',label='Null CIs')\n",
    "for key, eos,color in zip(CI_keys,eoss,colors):\n",
    "    plt.axvline(post_set[key][0],label=eos,color=color)\n",
    "    fill_xs = np.linspace(lower,post_set[key][0],Npoints)\n",
    "    plt.fill_between(fill_xs,null_CI_dist.pdf(fill_xs),color=color,label='__nolegend__',alpha=0.3)\n",
    "plt.ylim(0,)\n",
    "plt.gca().set_yticks([])\n",
    "plt.xlabel('R$_{1.6}$ Credible Interval Width (km)')\n",
    "plt.legend()\n",
    "plt.savefig('../paper/figures/CI_distribution.png',bbox_inches='tight')\n",
    "plt.savefig('../paper/figures/CI_distribution.pdf',bbox_inches='tight')\n",
    "plt.show()"
   ]
  },
  {
   "cell_type": "code",
   "execution_count": 59,
   "metadata": {},
   "outputs": [
    {
     "data": {
      "image/png": "[encoded data removed]",
      "text/plain": [
       "<Figure size 581.76x360 with 1 Axes>"
      ]
     },
     "metadata": {
      "needs_background": "light"
     },
     "output_type": "display_data"
    }
   ],
   "source": [
    "colors=['mediumorchid','teal','goldenrod']\n",
    "lower = 0\n",
    "upper = 0.35\n",
    "Npoints = 100\n",
    "WD_xs = np.linspace(lower,upper,Npoints)\n",
    "WD_maxi = np.argmax(null_WD_dist(WD_xs))\n",
    "plt.figure()\n",
    "plt.title('Distribution of Null Wasserstein Distances vs. Simulation WDs')\n",
    "# plt.hist(null_set['null_WD'],density=True,color='slategray',alpha=0.6,label='Null WDs')\n",
    "plt.plot(WD_xs,null_WD_dist.pdf(WD_xs),color='slategray',label='Null WDs')\n",
    "for key, eos,color in zip(WD_keys,eoss,colors):\n",
    "    plt.axvline(post_set[key][0],label=eos+' WD',color=color)\n",
    "    if post_set[key][0] < WD_xs[WD_maxi]:\n",
    "        fill_xs = np.linspace(lower,post_set[key][0],Npoints)\n",
    "    else:\n",
    "        fill_xs = np.linspace(post_set[key][0],upper,Npoints)\n",
    "    plt.fill_between(fill_xs,null_WD_dist.pdf(fill_xs),color=color,label='__nolegend__',alpha=0.2)\n",
    "plt.ylim(0,)\n",
    "plt.gca().set_yticks([])\n",
    "plt.xlabel('Wasserstein Distance')\n",
    "plt.legend()\n",
    "plt.savefig('../paper/figures/WD_distribution.png',bbox_inches='tight')\n",
    "plt.savefig('../paper/figures/WD_distribution.pdf',bbox_inches='tight')\n",
    "plt.show()"
   ]
  },
  {
   "cell_type": "code",
   "execution_count": 30,
   "metadata": {},
   "outputs": [
    {
     "data": {
      "image/png": "[encoded data removed]",
      "text/plain": [
       "<Figure size 581.76x360 with 1 Axes>"
      ]
     },
     "metadata": {
      "needs_background": "light"
     },
     "output_type": "display_data"
    }
   ],
   "source": [
    "colors=['mediumorchid','teal','goldenrod']\n",
    "plt.figure()\n",
    "plt.title('Distribution of Null Wasserstein Distances vs. Simulation WDs')\n",
    "plt.hist(null_set['null_WD'],density=True,color='slategray',alpha=0.6,label='Null WDs')\n",
    "for key, eos,color in zip(WD_keys,eoss,colors):\n",
    "    plt.axvline(post_set[key][0],label=eos,color=color)\n",
    "plt.gca().set_yticks([])\n",
    "plt.legend()\n",
    "plt.show()"
   ]
  },
  {
   "cell_type": "code",
   "execution_count": null,
   "metadata": {},
   "outputs": [],
   "source": []
  }
 ],
 "metadata": {
  "kernelspec": {
   "display_name": "gwenv",
   "language": "python",
   "name": "gwenv"
  },
  "language_info": {
   "codemirror_mode": {
    "name": "ipython",
    "version": 3
   },
   "file_extension": ".py",
   "mimetype": "text/x-python",
   "name": "python",
   "nbconvert_exporter": "python",
   "pygments_lexer": "ipython3",
   "version": "3.7.7"
  }
 },
 "nbformat": 4,
 "nbformat_minor": 4
}
