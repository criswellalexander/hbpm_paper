{
 "cells": [
  {
   "cell_type": "markdown",
   "metadata": {},
   "source": [
    "This is an analysis over results consistent with Petrov et al. (2022)'s projections for 4 years of observing at A+ sensitivity, with updated sky location handling and a three-detector network (HLV). This may be the final version."
   ]
  },
  {
   "cell_type": "code",
   "execution_count": 78,
   "metadata": {},
   "outputs": [],
   "source": [
    "## point to my utils/analysis code\n",
    "hbpmloc = '/mnt/c/Users/Alexander/Documents/LIGO/PM/hbpm_v2/'\n",
    "## basic imports\n",
    "import numpy as np\n",
    "import matplotlib.pyplot as plt\n",
    "import mplcyberpunk\n",
    "import scipy.stats as st\n",
    "import matplotlib\n",
    "from scipy.interpolate import interp1d\n",
    "from scipy.stats import gaussian_kde as kde\n",
    "from scipy.stats.mstats import mquantiles as mq\n",
    "from pesummary.core.plots.bounded_1d_kde import bounded_1d_kde\n",
    "from glob import glob\n",
    "import pandas as pd\n",
    "import sys \n",
    "import os\n",
    "import pickle\n",
    "from astropy import cosmology as co\n",
    "from astropy.units import *\n",
    "## Importing the accompanying utility and analysis files\n",
    "sys.path.append(os.path.abspath(hbpmloc+'hbpm_utils/'))\n",
    "from hbpm_utils import *\n",
    "from importlib import reload\n",
    "reload(sys.modules[\"hbpm_utils\"])\n",
    "from hbpm_utils import *\n",
    "sys.path.append(hbpmloc)\n",
    "from hbpm_analysis import run_analysis\n",
    "reload(sys.modules[\"hbpm_analysis\"])\n",
    "from hbpm_analysis import run_analysis\n",
    "\n",
    "## my preferred figure settings\n",
    "matplotlib.rcParams['figure.figsize'] = (8.08, 5.)\n",
    "matplotlib.rcParams['xtick.labelsize'] = 12.0\n",
    "matplotlib.rcParams['ytick.labelsize'] = 12.0\n",
    "matplotlib.rcParams['axes.labelsize'] = 14.0\n",
    "matplotlib.rcParams['legend.fontsize'] = 12\n",
    "matplotlib.rcParams['axes.titlesize'] = 16\n",
    "matplotlib.rcParams['axes.prop_cycle'] = matplotlib.cycler(color=[\"mediumorchid\", \"teal\", \"goldenrod\",\"slategray\"])"
   ]
  },
  {
   "cell_type": "code",
   "execution_count": 79,
   "metadata": {},
   "outputs": [],
   "source": [
    "post_bandwidth = 0.15\n",
    "prior_bandwidth = 0.4"
   ]
  },
  {
   "cell_type": "code",
   "execution_count": 80,
   "metadata": {},
   "outputs": [],
   "source": [
    "## load the not-bootstrap bootstrap\n",
    "## really need a new name for this\n",
    "## should also make a function to do this & put the samples in the hbpm_v2 directory\n",
    "coeffs = pd.read_csv(\n",
    "    '/mnt/c/Users/Alexander/Documents/LIGO/PM/hbpm/analysis_2022/empirical_relation_samples/sampled_coefficients_v05.tab',\n",
    "    sep=' ')\n",
    "bootstrap = coeffs.to_numpy()"
   ]
  },
  {
   "cell_type": "markdown",
   "metadata": {},
   "source": [
    "## Preliminaries"
   ]
  },
  {
   "cell_type": "code",
   "execution_count": 81,
   "metadata": {},
   "outputs": [],
   "source": [
    "## fine grid\n",
    "fs = np.linspace(1.5,4,200)\n",
    "Ms = np.linspace(0.8,1.8,200)"
   ]
  },
  {
   "cell_type": "code",
   "execution_count": 82,
   "metadata": {},
   "outputs": [],
   "source": [
    "## get the Dietrich et al. (2020) multimessenger prior for R_1.6\n",
    "Rs_mm, Rprior_kernel_mm, R16samples_mm = load_Rprior(hbpmloc+'/priors/R16_prior.txt',return_samples=True,plot=False)\n",
    "\n",
    "## uniform prior, consider R on [9,15]\n",
    "Rs = np.linspace(9,15,200)"
   ]
  },
  {
   "cell_type": "code",
   "execution_count": 83,
   "metadata": {},
   "outputs": [],
   "source": [
    "uniform_Rprior = st.uniform(loc=Rs.min(),scale=(Rs.max()-Rs.min()))"
   ]
  },
  {
   "cell_type": "code",
   "execution_count": 84,
   "metadata": {},
   "outputs": [],
   "source": [
    "# ## get the updated built-in BW fpeak prior\n",
    "# fprior_path = hbpmloc+'priors/fpeak_broad_O5_prior_100x.txt'\n",
    "# fprior_samples = np.loadtxt(fprior_path)\n",
    "# fprior = Prior_f(fprior_samples,boundary='Reflection',kde_bandwidth=prior_bandwidth)"
   ]
  },
  {
   "cell_type": "code",
   "execution_count": 85,
   "metadata": {},
   "outputs": [],
   "source": [
    "# ## plot the fpeak prior\n",
    "# plt.figure()\n",
    "# plt.plot(fs,fprior.pdf(fs),label='$\\\\mathrm{f_{peak}}$ Prior KDE')\n",
    "# plt.hist(fprior.samples,density=True,alpha=0.7,label='$\\mathrm{f_{peak}}$'+' Prior Samples',bins=20)\n",
    "# plt.plot(fs,st.uniform.pdf(fs,loc=1.5,scale=2.5),label='Uniform Distribution')\n",
    "# plt.xlabel('$\\mathrm{f_{peak}}$ (kHz)')\n",
    "# plt.xlim(1.5,4)\n",
    "# # plt.yticks([])\n",
    "# plt.ylim(0.35,0.45)\n",
    "# plt.title('Peak Frequency Prior')\n",
    "# plt.legend(loc='lower right')\n",
    "# # plt.savefig('fpeak_prior_forcapstone.jpg',bbox_inches='tight')\n",
    "# plt.show()"
   ]
  },
  {
   "cell_type": "markdown",
   "metadata": {},
   "source": [
    "## Analyses"
   ]
  },
  {
   "cell_type": "code",
   "execution_count": 86,
   "metadata": {},
   "outputs": [],
   "source": [
    "priorfile = hbpmloc+'/priors/fpeak_O5_prior_bw0p4_downsampled.pickle'\n",
    "savebase = '3-Aplus-4yr-HLV-072622'"
   ]
  },
  {
   "cell_type": "markdown",
   "metadata": {},
   "source": [
    "### Part 1"
   ]
  },
  {
   "cell_type": "code",
   "execution_count": null,
   "metadata": {},
   "outputs": [
    {
     "name": "stdout",
     "output_type": "stream",
     "text": [
      "Running a hierarchical Bayesian post-merger analysis...\n",
      "Loading priors...\n",
      "Loading simulation data...\n",
      "Generating event dictionary...\n"
     ]
    },
    {
     "name": "stderr",
     "output_type": "stream",
     "text": [
      " 19%|=>>>>>>>>>| 34/178 [01:15<05:18,  2.22s/it]"
     ]
    }
   ],
   "source": [
    "pt1_datadir = '/mnt/c/Users/Alexander/Documents/LIGO/PM/BWruns/HLV_runs/Aplus_4yr/part1/'\n",
    "Rs_pt1,likes_pt1,post_pt1,stats_pt1,postdict_pt1 = run_analysis(pt1_datadir,priorfile,\n",
    "                                                                'uniform','sfhx',\n",
    "                                                                hbpmloc+'/observing_run_sims/Aplus_4yr_events_pt1.csv',\n",
    "                                                               hbpmloc+'/nr_files/sfhx_event_parameters.csv',\n",
    "                                                               saveto='./'+savebase+'_pt1/',bootstrap=bootstrap,\n",
    "                                                                 prior_bandwidth=prior_bandwidth,\n",
    "                                                                 posterior_bandwidth=post_bandwidth,\n",
    "                                                                z_adj='known',Mchirp_scaling='snr',aggregation='sum')"
   ]
  },
  {
   "cell_type": "markdown",
   "metadata": {},
   "source": [
    "### Part 2"
   ]
  },
  {
   "cell_type": "code",
   "execution_count": null,
   "metadata": {},
   "outputs": [],
   "source": [
    "pt2_datadir = '/mnt/c/Users/Alexander/Documents/LIGO/PM/BWruns/HLV_runs/Aplus_4yr/part2/'\n",
    "Rs_pt2,likes_pt2,post_pt2,stats_pt2,postdict_pt2 = run_analysis(pt2_datadir,\n",
    "                                                                     priorfile,\n",
    "                                                                'uniform','sfhx',\n",
    "                                                                hbpmloc+'/observing_run_sims/Aplus_4yr_events_pt2.csv',\n",
    "                                                               hbpmloc+'/nr_files/sfhx_event_parameters.csv',\n",
    "                                                               saveto='./'+savebase+'_pt2/',bootstrap=bootstrap,\n",
    "                                                                 prior_bandwidth=prior_bandwidth,\n",
    "                                                                 posterior_bandwidth=post_bandwidth,\n",
    "                                                                z_adj='known',Mchirp_scaling='snr',aggregation='sum')"
   ]
  },
  {
   "cell_type": "markdown",
   "metadata": {},
   "source": [
    "## Combined"
   ]
  },
  {
   "cell_type": "code",
   "execution_count": null,
   "metadata": {},
   "outputs": [],
   "source": [
    "Aplus_4yr_likes = [*likes_pt1,*likes_pt2]"
   ]
  },
  {
   "cell_type": "code",
   "execution_count": null,
   "metadata": {},
   "outputs": [],
   "source": [
    "plt.figure()\n",
    "ax = plt.gca()\n",
    "# plot_aggregate_posterior_on_ax(Rs,likes_sly4,uniform_Rprior,Rtrue=11.54,ax=ax1,legend_loc='upper left',\n",
    "#                          title='O4+O5 Posterior for sly4 EoS')#,Rticks=[9.5,10,10.5,11,11.5,12,12.5,13,13.5])\n",
    "plot_aggregate_posterior_on_ax(Rs,Aplus_4yr_likes,uniform_Rprior,Rtrue=11.98,ax=ax,legend_loc='upper left',\n",
    "                         title='A+ 4yr Posterior for SFHX EoS')#,Rticks=[9.5,10,10.5,11,11.5,12,12.5,13,13.5])\n",
    "# plot_aggregate_posterior_on_ax(Rs,likes_dd2,uniform_Rprior,Rtrue=13.26,ax=ax3,legend_loc='upper left',\n",
    "#                          title='O4+O5 Posterior for dd2 EoS')#,Rticks=[9.5,10,10.5,11,11.5,12,12.5,13,13.5])\n",
    "# ax1.set_ylim()\n",
    "# plt.tight_layout()\n",
    "# plt.savefig('../paper/figures/O4O5_allEoS_3panel_witherr.png',bbox_inches='tight')\n",
    "# plt.savefig('../paper/figures/O4O5_allEoS_3panel_witherr.pdf',bbox_inches='tight')\n",
    "plt.show()"
   ]
  },
  {
   "cell_type": "code",
   "execution_count": null,
   "metadata": {},
   "outputs": [],
   "source": []
  },
  {
   "cell_type": "code",
   "execution_count": null,
   "metadata": {},
   "outputs": [],
   "source": [
    "pt1_postdict = load_posterior_pickle('./'+savebase+'_pt1/posterior_eventdict.pickle')"
   ]
  },
  {
   "cell_type": "code",
   "execution_count": null,
   "metadata": {},
   "outputs": [],
   "source": [
    "badkeys = ['eos', 'Rs', 'prior']"
   ]
  },
  {
   "cell_type": "code",
   "execution_count": null,
   "metadata": {},
   "outputs": [],
   "source": [
    "goodkeys_pt1 = [key for key in pt1_postdict.keys() if key not in badkeys]"
   ]
  },
  {
   "cell_type": "code",
   "execution_count": null,
   "metadata": {},
   "outputs": [],
   "source": [
    "unnormed_likes_pt1 = []\n",
    "for key in goodkeys_pt1:\n",
    "    unnormed_likes_pt1.append(pt1_postdict[key]['likelihood_i'])"
   ]
  },
  {
   "cell_type": "code",
   "execution_count": null,
   "metadata": {},
   "outputs": [],
   "source": [
    "plot_aggregate_posterior(Rs,unnormed_likes_pt1,uniform_Rprior,Rtrue=11.98)"
   ]
  },
  {
   "cell_type": "code",
   "execution_count": null,
   "metadata": {},
   "outputs": [],
   "source": [
    "# help(load_posterior_pickle)\n",
    "pt2_postdict = load_posterior_pickle('./'+savebase+'_pt2/posterior_eventdict.pickle')"
   ]
  },
  {
   "cell_type": "code",
   "execution_count": null,
   "metadata": {},
   "outputs": [],
   "source": [
    "goodkeys_pt2 = [key for key in pt2_postdict.keys() if key not in badkeys]"
   ]
  },
  {
   "cell_type": "code",
   "execution_count": null,
   "metadata": {},
   "outputs": [],
   "source": [
    "unnormed_likes_pt2 = []\n",
    "for key in goodkeys_pt2:\n",
    "    unnormed_likes_pt2.append(pt2_postdict[key]['likelihood_i'])"
   ]
  },
  {
   "cell_type": "code",
   "execution_count": null,
   "metadata": {},
   "outputs": [],
   "source": [
    "plot_aggregate_posterior(Rs,unnormed_likes_pt2,uniform_Rprior,Rtrue=11.98)"
   ]
  },
  {
   "cell_type": "code",
   "execution_count": null,
   "metadata": {},
   "outputs": [],
   "source": [
    "Aplus_4yr_likes = [*unnormed_likes_pt1,*unnormed_likes_pt2]"
   ]
  },
  {
   "cell_type": "code",
   "execution_count": null,
   "metadata": {},
   "outputs": [],
   "source": [
    "plt.figure()\n",
    "ax = plt.gca()\n",
    "# plot_aggregate_posterior_on_ax(Rs,likes_sly4,uniform_Rprior,Rtrue=11.54,ax=ax1,legend_loc='upper left',\n",
    "#                          title='O4+O5 Posterior for sly4 EoS')#,Rticks=[9.5,10,10.5,11,11.5,12,12.5,13,13.5])\n",
    "plot_aggregate_posterior_on_ax(Rs,Aplus_4yr_likes,uniform_Rprior,Rtrue=11.98,ax=ax,legend_loc='upper left',\n",
    "                         title='A+ 4yr Posterior for SFHX EoS')#,Rticks=[9.5,10,10.5,11,11.5,12,12.5,13,13.5])\n",
    "# plot_aggregate_posterior_on_ax(Rs,likes_dd2,uniform_Rprior,Rtrue=13.26,ax=ax3,legend_loc='upper left',\n",
    "#                          title='O4+O5 Posterior for dd2 EoS')#,Rticks=[9.5,10,10.5,11,11.5,12,12.5,13,13.5])\n",
    "# ax1.set_ylim()\n",
    "# plt.tight_layout()\n",
    "# plt.savefig('../paper/figures/O4O5_allEoS_3panel_witherr.png',bbox_inches='tight')\n",
    "# plt.savefig('../paper/figures/O4O5_allEoS_3panel_witherr.pdf',bbox_inches='tight')\n",
    "plt.show()"
   ]
  },
  {
   "cell_type": "code",
   "execution_count": null,
   "metadata": {},
   "outputs": [],
   "source": [
    "prior_stats = get_post_stats(Rprior_kernel_mm.pdf(Rs)/np.sum(Rprior_kernel_mm.pdf(Rs)),Rs,latex=True)\n",
    "sfhx_stats = get_post_stats(get_posterior(Rs,get_aggregate_likelihood(Aplus_4yr_likes),Rprior_kernel_mm),Rs,latex=True)"
   ]
  },
  {
   "cell_type": "code",
   "execution_count": null,
   "metadata": {},
   "outputs": [],
   "source": [
    "prior_range = prior_stats[2] - prior_stats[1]\n",
    "sfhx_range = sfhx_stats[2] - sfhx_stats[1]"
   ]
  },
  {
   "cell_type": "code",
   "execution_count": null,
   "metadata": {},
   "outputs": [],
   "source": [
    "prior_range - sfhx_range"
   ]
  },
  {
   "cell_type": "code",
   "execution_count": null,
   "metadata": {},
   "outputs": [],
   "source": [
    "(prior_range - sfhx_range)/prior_range"
   ]
  },
  {
   "cell_type": "code",
   "execution_count": null,
   "metadata": {},
   "outputs": [],
   "source": [
    "get_post_stats(uniform_Rprior.pdf(Rs)/np.sum(uniform_Rprior.pdf(Rs)),Rs,latex=True)"
   ]
  },
  {
   "cell_type": "code",
   "execution_count": null,
   "metadata": {},
   "outputs": [],
   "source": [
    "get_post_stats(get_posterior(Rs,get_aggregate_likelihood(Aplus_4yr_likes),uniform_Rprior),Rs,latex=True)"
   ]
  },
  {
   "cell_type": "markdown",
   "metadata": {},
   "source": [
    "Just a check: look at what happens when we remove the most nearby events."
   ]
  },
  {
   "cell_type": "code",
   "execution_count": null,
   "metadata": {},
   "outputs": [],
   "source": [
    "cut = 100 #Mpc\n",
    "farkeys_pt1 = [key for key in goodkeys_pt1 if float(key.split('_')[1].split('-')[0])>cut]\n",
    "farkeys_pt2 = [key for key in goodkeys_pt2 if float(key.split('_')[1].split('-')[0])>cut]\n",
    "farlikes_pt1 = [pt1_postdict[key]['likelihood_i'] for key in farkeys_pt1]\n",
    "farlikes_pt2 = [pt2_postdict[key]['likelihood_i'] for key in farkeys_pt2]"
   ]
  },
  {
   "cell_type": "code",
   "execution_count": null,
   "metadata": {},
   "outputs": [],
   "source": [
    "pt1_postdict[goodkeys_pt1[2]].keys()\n",
    "for key1,key2 in zip(goodkeys_pt1,goodkeys_pt2):\n",
    "    if pt1_postdict[key1]['dist'] < 100:\n",
    "        print(key1)\n",
    "    if pt2_postdict[key2]['dist'] < 100:\n",
    "        print(key2)"
   ]
  },
  {
   "cell_type": "markdown",
   "metadata": {},
   "source": [
    "Look at the closest (presumeably best) individual posterior:"
   ]
  },
  {
   "cell_type": "code",
   "execution_count": null,
   "metadata": {},
   "outputs": [],
   "source": [
    "plt.figure()\n",
    "ax = plt.gca()\n",
    "# plot_aggregate_posterior_on_ax(Rs,likes_sly4,uniform_Rprior,Rtrue=11.54,ax=ax1,legend_loc='upper left',\n",
    "#                          title='O4+O5 Posterior for sly4 EoS')#,Rticks=[9.5,10,10.5,11,11.5,12,12.5,13,13.5])\n",
    "plot_aggregate_posterior_on_ax(Rs,[pt2_postdict['129135_53.16']['likelihood_i']],uniform_Rprior,Rtrue=11.98,ax=ax,legend_loc='upper left',\n",
    "                         title='A+ 4yr Posterior for SFHX EoS')#,Rticks=[9.5,10,10.5,11,11.5,12,12.5,13,13.5])\n",
    "# plot_aggregate_posterior_on_ax(Rs,likes_dd2,uniform_Rprior,Rtrue=13.26,ax=ax3,legend_loc='upper left',\n",
    "#                          title='O4+O5 Posterior for dd2 EoS')#,Rticks=[9.5,10,10.5,11,11.5,12,12.5,13,13.5])\n",
    "# ax1.set_ylim()\n",
    "# plt.tight_layout()\n",
    "# plt.savefig('../paper/figures/O4O5_allEoS_3panel_witherr.png',bbox_inches='tight')\n",
    "# plt.savefig('../paper/figures/O4O5_allEoS_3panel_witherr.pdf',bbox_inches='tight')\n",
    "plt.show()"
   ]
  },
  {
   "cell_type": "code",
   "execution_count": null,
   "metadata": {},
   "outputs": [],
   "source": [
    "Aplus_4yr_farlikes = [*farlikes_pt1,*farlikes_pt2]"
   ]
  },
  {
   "cell_type": "code",
   "execution_count": null,
   "metadata": {},
   "outputs": [],
   "source": [
    "len(Aplus_4yr_likes) - len(Aplus_4yr_farlikes)"
   ]
  },
  {
   "cell_type": "code",
   "execution_count": null,
   "metadata": {},
   "outputs": [],
   "source": [
    "plt.figure()\n",
    "ax = plt.gca()\n",
    "# plot_aggregate_posterior_on_ax(Rs,likes_sly4,uniform_Rprior,Rtrue=11.54,ax=ax1,legend_loc='upper left',\n",
    "#                          title='O4+O5 Posterior for sly4 EoS')#,Rticks=[9.5,10,10.5,11,11.5,12,12.5,13,13.5])\n",
    "plot_aggregate_posterior_on_ax(Rs,Aplus_4yr_farlikes,uniform_Rprior,Rtrue=11.98,ax=ax,legend_loc='upper left',\n",
    "                         title='A+ 4yr Posterior for SFHX EoS')#,Rticks=[9.5,10,10.5,11,11.5,12,12.5,13,13.5])\n",
    "# plot_aggregate_posterior_on_ax(Rs,likes_dd2,uniform_Rprior,Rtrue=13.26,ax=ax3,legend_loc='upper left',\n",
    "#                          title='O4+O5 Posterior for dd2 EoS')#,Rticks=[9.5,10,10.5,11,11.5,12,12.5,13,13.5])\n",
    "# ax1.set_ylim()\n",
    "# plt.tight_layout()\n",
    "# plt.savefig('../paper/figures/O4O5_allEoS_3panel_witherr.png',bbox_inches='tight')\n",
    "# plt.savefig('../paper/figures/O4O5_allEoS_3panel_witherr.pdf',bbox_inches='tight')\n",
    "plt.show()"
   ]
  },
  {
   "cell_type": "code",
   "execution_count": null,
   "metadata": {},
   "outputs": [],
   "source": []
  },
  {
   "cell_type": "code",
   "execution_count": null,
   "metadata": {},
   "outputs": [],
   "source": []
  },
  {
   "cell_type": "code",
   "execution_count": null,
   "metadata": {},
   "outputs": [],
   "source": []
  }
 ],
 "metadata": {
  "kernelspec": {
   "display_name": "gwenv",
   "language": "python",
   "name": "gwenv"
  },
  "language_info": {
   "codemirror_mode": {
    "name": "ipython",
    "version": 3
   },
   "file_extension": ".py",
   "mimetype": "text/x-python",
   "name": "python",
   "nbconvert_exporter": "python",
   "pygments_lexer": "ipython3",
   "version": "3.7.7"
  }
 },
 "nbformat": 4,
 "nbformat_minor": 4
}
